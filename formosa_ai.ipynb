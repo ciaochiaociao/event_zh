{
 "cells": [
  {
   "cell_type": "code",
   "execution_count": 8,
   "metadata": {},
   "outputs": [
    {
     "name": "stdout",
     "output_type": "stream",
     "text": [
      "Requirement already satisfied: opencc-python-reimplemented in /root/miniconda3/envs/Python3.7/lib/python3.7/site-packages (0.1.5)\n",
      "Collecting lxml\n",
      "\u001b[?25l  Downloading https://files.pythonhosted.org/packages/e7/a8/40115c84414c017e1a293f331709eb7534303d3ccd11ef805ac09b1481e7/lxml-4.4.1-cp37-cp37m-manylinux1_x86_64.whl (5.7MB)\n",
      "\u001b[K     |████████████████████████████████| 5.8MB 268kB/s eta 0:00:01\n",
      "\u001b[?25hInstalling collected packages: lxml\n",
      "Successfully installed lxml-4.4.1\n",
      "Package                     Version            \n",
      "--------------------------- -------------------\n",
      "backcall                    0.1.0              \n",
      "certifi                     2019.9.11          \n",
      "decorator                   4.4.1              \n",
      "ipykernel                   5.1.3              \n",
      "ipython                     7.9.0              \n",
      "ipython-genutils            0.2.0              \n",
      "jedi                        0.15.1             \n",
      "jupyter-client              5.3.4              \n",
      "jupyter-core                4.6.1              \n",
      "lxml                        4.4.1              \n",
      "opencc-python-reimplemented 0.1.5              \n",
      "parso                       0.5.1              \n",
      "pexpect                     4.7.0              \n",
      "pickleshare                 0.7.5              \n",
      "pip                         19.3.1             \n",
      "prompt-toolkit              2.0.10             \n",
      "ptyprocess                  0.6.0              \n",
      "Pygments                    2.4.2              \n",
      "python-dateutil             2.8.1              \n",
      "pyzmq                       18.1.0             \n",
      "setuptools                  41.6.0.post20191030\n",
      "six                         1.13.0             \n",
      "tornado                     6.0.3              \n",
      "traitlets                   4.3.3              \n",
      "wcwidth                     0.1.7              \n",
      "wheel                       0.33.6             \n"
     ]
    }
   ],
   "source": [
    "import sys\n",
    "!{sys.executable} -m pip install opencc-python-reimplemented lxml\n",
    "!{sys.executable} -m pip list"
   ]
  },
  {
   "cell_type": "code",
   "execution_count": 6,
   "metadata": {},
   "outputs": [
    {
     "name": "stdout",
     "output_type": "stream",
     "text": [
      "Python 3.5.2\n"
     ]
    }
   ],
   "source": [
    "!{sys.executable} --version"
   ]
  },
  {
   "cell_type": "code",
   "execution_count": 3,
   "metadata": {},
   "outputs": [
    {
     "name": "stdout",
     "output_type": "stream",
     "text": [
      "/usr/bin/python\n"
     ]
    }
   ],
   "source": [
    "!which python --version"
   ]
  },
  {
   "cell_type": "code",
   "execution_count": 2,
   "metadata": {},
   "outputs": [
    {
     "name": "stdout",
     "output_type": "stream",
     "text": [
      "/usr/bin/python3: No module named python\n"
     ]
    }
   ],
   "source": [
    "import sys\n",
    "!{sys.executable} -m python --\n"
   ]
  },
  {
   "cell_type": "markdown",
   "metadata": {},
   "source": [
    "# Load FGC training dataset"
   ]
  },
  {
   "cell_type": "code",
   "execution_count": 7,
   "metadata": {},
   "outputs": [],
   "source": [
    "import json\n",
    "file = 'FGC_release_A.json'\n",
    "\n",
    "with open(file) as f:\n",
    "    data = json.load(f)"
   ]
  },
  {
   "cell_type": "code",
   "execution_count": 1,
   "metadata": {},
   "outputs": [],
   "source": [
    "from event_zh.main import sino_extract"
   ]
  },
  {
   "cell_type": "code",
   "execution_count": 3,
   "metadata": {},
   "outputs": [
    {
     "name": "stderr",
     "output_type": "stream",
     "text": [
      "Running function sino_extract\n"
     ]
    },
    {
     "name": "stdout",
     "output_type": "stream",
     "text": [
      "/workspace/event_zh/event_zh/SinoCoreferencer\n"
     ]
    },
    {
     "name": "stdin",
     "output_type": "stream",
     "text": [
      "SinoCoreferencer/data/doc \n",
      "SinoCoreferencer/data \n"
     ]
    },
    {
     "name": "stdout",
     "output_type": "stream",
     "text": [
      "/workspace/event_zh/event_zh/SinoCoreferencer/data\n",
      "/workspace/event_zh\n"
     ]
    },
    {
     "ename": "FileNotFoundError",
     "evalue": "[Errno 2] No such file or directory: 'extract-event'",
     "output_type": "error",
     "traceback": [
      "\u001b[0;31m---------------------------------------------------------------------------\u001b[0m",
      "\u001b[0;31mFileNotFoundError\u001b[0m                         Traceback (most recent call last)",
      "\u001b[0;32m<ipython-input-3-9f67d21fc514>\u001b[0m in \u001b[0;36m<module>\u001b[0;34m\u001b[0m\n\u001b[0;32m----> 1\u001b[0;31m \u001b[0msino_extract\u001b[0m\u001b[0;34m(\u001b[0m\u001b[0;34m'event_zh/doc'\u001b[0m\u001b[0;34m)\u001b[0m\u001b[0;34m\u001b[0m\u001b[0m\n\u001b[0m",
      "\u001b[0;32m/workspace/event_zh/event_zh/utils.py\u001b[0m in \u001b[0;36mtimed\u001b[0;34m(*args, **kw)\u001b[0m\n\u001b[1;32m     21\u001b[0m             \u001b[0mts\u001b[0m \u001b[0;34m=\u001b[0m \u001b[0mtime\u001b[0m\u001b[0;34m.\u001b[0m\u001b[0mtime\u001b[0m\u001b[0;34m(\u001b[0m\u001b[0;34m)\u001b[0m\u001b[0;34m\u001b[0m\u001b[0m\n\u001b[1;32m     22\u001b[0m             \u001b[0mlogging\u001b[0m\u001b[0;34m.\u001b[0m\u001b[0mgetLogger\u001b[0m\u001b[0;34m(\u001b[0m\u001b[0mlogger_name\u001b[0m\u001b[0;34m)\u001b[0m\u001b[0;34m.\u001b[0m\u001b[0minfo\u001b[0m\u001b[0;34m(\u001b[0m\u001b[0;34m\"Running function {}\"\u001b[0m\u001b[0;34m.\u001b[0m\u001b[0mformat\u001b[0m\u001b[0;34m(\u001b[0m\u001b[0mmethod\u001b[0m\u001b[0;34m.\u001b[0m\u001b[0m__name__\u001b[0m\u001b[0;34m)\u001b[0m\u001b[0;34m)\u001b[0m\u001b[0;34m\u001b[0m\u001b[0m\n\u001b[0;32m---> 23\u001b[0;31m             \u001b[0mresult\u001b[0m \u001b[0;34m=\u001b[0m \u001b[0mmethod\u001b[0m\u001b[0;34m(\u001b[0m\u001b[0;34m*\u001b[0m\u001b[0margs\u001b[0m\u001b[0;34m,\u001b[0m \u001b[0;34m**\u001b[0m\u001b[0mkw\u001b[0m\u001b[0;34m)\u001b[0m\u001b[0;34m\u001b[0m\u001b[0m\n\u001b[0m\u001b[1;32m     24\u001b[0m             \u001b[0mte\u001b[0m \u001b[0;34m=\u001b[0m \u001b[0mtime\u001b[0m\u001b[0;34m.\u001b[0m\u001b[0mtime\u001b[0m\u001b[0;34m(\u001b[0m\u001b[0;34m)\u001b[0m\u001b[0;34m\u001b[0m\u001b[0m\n\u001b[1;32m     25\u001b[0m             \u001b[0mlogging\u001b[0m\u001b[0;34m.\u001b[0m\u001b[0mgetLogger\u001b[0m\u001b[0;34m(\u001b[0m\u001b[0mlogger_name\u001b[0m\u001b[0;34m)\u001b[0m\u001b[0;34m.\u001b[0m\u001b[0minfo\u001b[0m\u001b[0;34m(\u001b[0m\u001b[0;34m\"function {} ran in {}s\"\u001b[0m\u001b[0;34m.\u001b[0m\u001b[0mformat\u001b[0m\u001b[0;34m(\u001b[0m\u001b[0mmethod\u001b[0m\u001b[0;34m.\u001b[0m\u001b[0m__name__\u001b[0m\u001b[0;34m,\u001b[0m \u001b[0mround\u001b[0m\u001b[0;34m(\u001b[0m\u001b[0mte\u001b[0m \u001b[0;34m-\u001b[0m \u001b[0mts\u001b[0m\u001b[0;34m,\u001b[0m \u001b[0;36m2\u001b[0m\u001b[0;34m)\u001b[0m\u001b[0;34m)\u001b[0m\u001b[0;34m)\u001b[0m\u001b[0;34m\u001b[0m\u001b[0m\n",
      "\u001b[0;32m/workspace/event_zh/event_zh/main.py\u001b[0m in \u001b[0;36msino_extract\u001b[0;34m(fpath, save_path)\u001b[0m\n\u001b[1;32m    305\u001b[0m     \u001b[0;32mtry\u001b[0m\u001b[0;34m:\u001b[0m\u001b[0;34m\u001b[0m\u001b[0m\n\u001b[1;32m    306\u001b[0m         \u001b[0;31m# extract\u001b[0m\u001b[0;34m\u001b[0m\u001b[0;34m\u001b[0m\u001b[0m\n\u001b[0;32m--> 307\u001b[0;31m         \u001b[0mpipe\u001b[0m \u001b[0;34m=\u001b[0m \u001b[0msubprocess\u001b[0m\u001b[0;34m.\u001b[0m\u001b[0mPopen\u001b[0m\u001b[0;34m(\u001b[0m\u001b[0mcmd\u001b[0m\u001b[0;34m,\u001b[0m \u001b[0mstdout\u001b[0m\u001b[0;34m=\u001b[0m\u001b[0msubprocess\u001b[0m\u001b[0;34m.\u001b[0m\u001b[0mPIPE\u001b[0m\u001b[0;34m,\u001b[0m \u001b[0mstderr\u001b[0m\u001b[0;34m=\u001b[0m\u001b[0msubprocess\u001b[0m\u001b[0;34m.\u001b[0m\u001b[0mPIPE\u001b[0m\u001b[0;34m,\u001b[0m \u001b[0muniversal_newlines\u001b[0m\u001b[0;34m=\u001b[0m\u001b[0;32mTrue\u001b[0m\u001b[0;34m)\u001b[0m\u001b[0;34m\u001b[0m\u001b[0m\n\u001b[0m\u001b[1;32m    308\u001b[0m \u001b[0;34m\u001b[0m\u001b[0m\n\u001b[1;32m    309\u001b[0m         \u001b[0mstdout\u001b[0m\u001b[0;34m,\u001b[0m \u001b[0mstderr\u001b[0m \u001b[0;34m=\u001b[0m \u001b[0mpipe\u001b[0m\u001b[0;34m.\u001b[0m\u001b[0mcommunicate\u001b[0m\u001b[0;34m(\u001b[0m\u001b[0mtimeout\u001b[0m\u001b[0;34m=\u001b[0m\u001b[0;36m900\u001b[0m\u001b[0;34m)\u001b[0m  \u001b[0;31m# if the process is not finished in 15 mins, timeout\u001b[0m\u001b[0;34m\u001b[0m\u001b[0m\n",
      "\u001b[0;32m/usr/lib/python3.5/subprocess.py\u001b[0m in \u001b[0;36m__init__\u001b[0;34m(self, args, bufsize, executable, stdin, stdout, stderr, preexec_fn, close_fds, shell, cwd, env, universal_newlines, startupinfo, creationflags, restore_signals, start_new_session, pass_fds)\u001b[0m\n\u001b[1;32m    945\u001b[0m                                 \u001b[0mc2pread\u001b[0m\u001b[0;34m,\u001b[0m \u001b[0mc2pwrite\u001b[0m\u001b[0;34m,\u001b[0m\u001b[0;34m\u001b[0m\u001b[0m\n\u001b[1;32m    946\u001b[0m                                 \u001b[0merrread\u001b[0m\u001b[0;34m,\u001b[0m \u001b[0merrwrite\u001b[0m\u001b[0;34m,\u001b[0m\u001b[0;34m\u001b[0m\u001b[0m\n\u001b[0;32m--> 947\u001b[0;31m                                 restore_signals, start_new_session)\n\u001b[0m\u001b[1;32m    948\u001b[0m         \u001b[0;32mexcept\u001b[0m\u001b[0;34m:\u001b[0m\u001b[0;34m\u001b[0m\u001b[0m\n\u001b[1;32m    949\u001b[0m             \u001b[0;31m# Cleanup if the child failed starting.\u001b[0m\u001b[0;34m\u001b[0m\u001b[0;34m\u001b[0m\u001b[0m\n",
      "\u001b[0;32m/usr/lib/python3.5/subprocess.py\u001b[0m in \u001b[0;36m_execute_child\u001b[0;34m(self, args, executable, preexec_fn, close_fds, pass_fds, cwd, env, startupinfo, creationflags, shell, p2cread, p2cwrite, c2pread, c2pwrite, errread, errwrite, restore_signals, start_new_session)\u001b[0m\n\u001b[1;32m   1549\u001b[0m                             \u001b[0;32melse\u001b[0m\u001b[0;34m:\u001b[0m\u001b[0;34m\u001b[0m\u001b[0m\n\u001b[1;32m   1550\u001b[0m                                 \u001b[0merr_msg\u001b[0m \u001b[0;34m+=\u001b[0m \u001b[0;34m': '\u001b[0m \u001b[0;34m+\u001b[0m \u001b[0mrepr\u001b[0m\u001b[0;34m(\u001b[0m\u001b[0morig_executable\u001b[0m\u001b[0;34m)\u001b[0m\u001b[0;34m\u001b[0m\u001b[0m\n\u001b[0;32m-> 1551\u001b[0;31m                     \u001b[0;32mraise\u001b[0m \u001b[0mchild_exception_type\u001b[0m\u001b[0;34m(\u001b[0m\u001b[0merrno_num\u001b[0m\u001b[0;34m,\u001b[0m \u001b[0merr_msg\u001b[0m\u001b[0;34m)\u001b[0m\u001b[0;34m\u001b[0m\u001b[0m\n\u001b[0m\u001b[1;32m   1552\u001b[0m                 \u001b[0;32mraise\u001b[0m \u001b[0mchild_exception_type\u001b[0m\u001b[0;34m(\u001b[0m\u001b[0merr_msg\u001b[0m\u001b[0;34m)\u001b[0m\u001b[0;34m\u001b[0m\u001b[0m\n\u001b[1;32m   1553\u001b[0m \u001b[0;34m\u001b[0m\u001b[0m\n",
      "\u001b[0;31mFileNotFoundError\u001b[0m: [Errno 2] No such file or directory: 'extract-event'"
     ]
    }
   ],
   "source": [
    "sino_extract('event_zh/doc')"
   ]
  },
  {
   "cell_type": "code",
   "execution_count": 9,
   "metadata": {},
   "outputs": [
    {
     "name": "stderr",
     "output_type": "stream",
     "text": [
      ">>>>> Extracting 001\n",
      "Running function sino_extract\n",
      "Call Stanford CoreNLP...\n",
      "Move Stanford CoreNLP output...\n",
      "Run entity mention detection...\n",
      "Run entity typing & subtyping...\n",
      "Run entity coreference...\n",
      "Run event trigger identification...\n",
      "Run event argument identification...\n",
      "Run event attributes classification...\n",
      "Run event coreference...\n",
      "Cleaning...\n",
      "Congrats! Done!\n",
      "\n",
      "function sino_extract ran in 9.54s\n",
      "Running function read_and_output\n",
      "/workspace/EEtask/Chinese/001: No events!\n",
      ">>>>> Extracting 002\n",
      "Running function sino_extract\n",
      "Call Stanford CoreNLP...\n",
      "Move Stanford CoreNLP output...\n",
      "Run entity mention detection...\n",
      "Run entity typing & subtyping...\n",
      "Run entity coreference...\n",
      "Run event trigger identification...\n",
      "Run event argument identification...\n",
      "Run event attributes classification...\n",
      "Run event coreference...\n",
      "Cleaning...\n",
      "Congrats! Done!\n",
      "\n",
      "function sino_extract ran in 9.5s\n",
      "Running function read_and_output\n",
      "function read_and_output ran in 0.05s\n",
      "Finished!\n"
     ]
    },
    {
     "name": "stdout",
     "output_type": "stream",
     "text": [
      "0 D002-S1-EVM0\n",
      "1\n",
      "CPU times: user 72 ms, sys: 32 ms, total: 104 ms\n",
      "Wall time: 19.1 s\n"
     ]
    }
   ],
   "source": [
    "%%time\n",
    "\n",
    "from event_zh.main import extract_to_json, extract\n",
    "from opencc import OpenCC\n",
    "\n",
    "cc = OpenCC('t2s')\n",
    "output_dir = 'formosa_ai_outputs'\n",
    "\n",
    "ee_jsons = {}\n",
    "\n",
    "def ee(did, t, output_dir):\n",
    "    \n",
    "    # convert to simplified chinese\n",
    "    text = cc.convert(t)\n",
    "    write_file = did\n",
    "    with open(write_file, 'w') as f:\n",
    "        f.write(text)\n",
    "\n",
    "    # event extraction to json\n",
    "    ee_json = extract_to_json(write_file, output_dir)\n",
    "    \n",
    "    return ee_json\n",
    "\n",
    "def write_to_mostai(path, ee_json):\n",
    "    import json\n",
    "    with open(path, 'w') as f:\n",
    "        json.dump(ee_json, f)\n",
    "\n",
    "        \n",
    "num_data = 2\n",
    "on_q = False\n",
    "\n",
    "\n",
    "for i, dic in enumerate(data):\n",
    "    \n",
    "    if i >= num_data:\n",
    "        break\n",
    "    \n",
    "    # event extraction on document\n",
    "    did = dic['DID'][1:]  # strip away 'D' to avoid duplicates\n",
    "    text = dic['DTEXT']\n",
    "    try:\n",
    "        djson = ee(did, text, output_dir)\n",
    "    \n",
    "\n",
    "        if on_q:\n",
    "            # event extraction on questions\n",
    "            qjsons = []\n",
    "            qs = dic['QUESTIONS']\n",
    "            for q in qs:\n",
    "                text = q['QTEXT']\n",
    "                qid = q['QID'][1:]\n",
    "                qjsons.append(ee(qid, text, output_dir))\n",
    "\n",
    "            # keep all jsons to generate most ai format\n",
    "            ee_jsons.update({did: djson, 'QUESTIONS': qjsons })\n",
    "        else:\n",
    "            ee_jsons.update({did: djson})\n",
    "    \n",
    "    except FileNotFoundError:\n",
    "        raise\n",
    "            "
   ]
  },
  {
   "cell_type": "code",
   "execution_count": 10,
   "metadata": {},
   "outputs": [],
   "source": [
    "write_file = 'FGC_train3.ee.json'\n",
    "\n",
    "write_to_mostai(write_file, ee_jsons)"
   ]
  },
  {
   "cell_type": "code",
   "execution_count": 20,
   "metadata": {},
   "outputs": [],
   "source": [
    "write_file = 'FGC_train.ee.json'\n",
    "\n",
    "write_to_mostai(write_file, ee_jsons)"
   ]
  },
  {
   "cell_type": "markdown",
   "metadata": {},
   "source": [
    "# Write to MOST AI Format"
   ]
  },
  {
   "cell_type": "code",
   "execution_count": 14,
   "metadata": {},
   "outputs": [],
   "source": [
    "write_file = 'FGC_sample5.ee.json'\n",
    "def write_to_mostai(path, ee_json):\n",
    "    import json\n",
    "    with open(path, 'w') as f:\n",
    "        json.dump(ee_json, f)\n",
    "\n",
    "write_to_mostai(write_file, ee_jsons)"
   ]
  },
  {
   "cell_type": "markdown",
   "metadata": {},
   "source": [
    "# Single Text"
   ]
  },
  {
   "cell_type": "code",
   "execution_count": 1,
   "metadata": {},
   "outputs": [],
   "source": [
    "text1 = \"梵語在社交中口頭使用，並且在早期古典梵語文獻的發展中維持口頭傳統。在印度，書寫形式是當梵語發展成俗語之後才出現的；在書寫梵語的時候，書寫系統的選擇受抄寫者所處地域的影響。同樣的，所有南亞的主要書寫系統事實上都用於梵語文稿的抄寫。自19世紀晚期，天城文被定為梵語的標準書寫系統，十分可能的原因是歐洲人有用這種文字印刷梵語文本的習慣。最早的已知梵語碑刻可確定為公元前一世紀。它們採用了最初用於俗語而非梵語的婆羅米文。第一個書寫梵語的證據，出現在晚於它的俗語的書寫證據之後的幾個世紀，這被描述為一種悖論。在梵語被書寫下來的時候，它首先用於行政、文學或科學類的文本。宗教文本口頭傳承，在相當晚的時候才「不情願」地被書寫下來。\"\n",
    "text2 = \"日本第二大都會區大阪都市圈發生芮氏規模6.1，最大震度6弱的強烈地震，造成至少4人死亡及376人受傷。震央位於大阪府北部，震源深度僅13公里，屬極淺層的「直下型地震」。\"\n",
    "text3 = \"不多一會，朗山端了一瓦缽子飯來了，只看那蓋子縫裡，熱氣向外亂噴，那種白米飯的香味，直鑽到人家鼻子眼裡去。雖是已經吃了兩個饅頭，肚子裡有點東西了，可是聞到這種香氣，更引起胃欲。只見劉朗山將缽子蓋一掀，看到裡面鬆鬆的半缽飯，其白如雪，恨不得將瓦缽端了過來，一人獨吞下去，現在瓦缽子在劉朗山手裡，爭奪不得，便望了飯笑道：「這飯兩個人吃，怕是不夠吧？」朗山點著頭道：「我本來打算煮一餐飯作兩餐吃的，怎樣會不夠？」於是在床底下網籃裡取出兩隻飯碗，盛了飯放在桌上。他因自己一雙筷子被士毅佔了，由網籃裡找到桌子抽屜裡，更由桌子抽屜裡，找到書堆裡，為了一雙筷子，找了許久的工夫。士毅在人家主人翁未曾來吃的時候，又不便先吃，只好瞪了兩隻眼睛，望著這一大碗白米飯發呆，好容易把筷子找來，才開始吃飯，士毅便是不吃菜，這飯爬到口裡去，也就香甜可口，三下兩下，把一碗飯就吃了下去。\"\n",
    "text4 = \"(台北)台北市南港區.近日發生;多部車輛遭歹徒以瓦斯槍.隨機射擊毀損的案件;案發後.南港警分局積極蒐證偵辦,最後在案發48小時內,順利逮捕.曾有類似前科的兩名犯嫌!記者靳傑報導台北市警局南港分局21號晚間獲報:轄區捷運昆陽機場附近,有6部自小客貨車,遭歹徒以不明槍械隨機射擊毀損,於是出動鑑識人員,和轄區同德派出所員警.到場蒐證;現場並發現遺留的鋼珠,和.BB彈等證物;經訪查及蒐集案發地相關跡證,發現ㄧ部白色疑似作案車輛,於是報請士檢指揮偵辦,23號清晨.分別在轄區南港路3段,和.新北市汐止中興路,陳姓及劉姓犯嫌住處,將兩人逮捕;兩名男子落網後辯稱:因為心情不佳,才持瓦斯槍隨機掃射路邊停放車輛;南港警分局偵查隊長.顏光燦說~VOICE台北市警局南港分局初步調查:46歲的劉姓和19歲的陳姓犯嫌,分別有竊盜.毒品等前科,平日還充當藥頭提供毒品;據了解,兩人4月初曾以相同手法在轄區福德街一帶作案,被依照毀損及竊盜犯嫌送辦,但仍不知悔改;訊問後.已依照毀損罪嫌,移送士林地檢署偵辦!\"\n",
    "text5 = \"自稱朱元璋後代的台北光信里里長朱雪璋，涉嫌相約比武時設局砍人，造成對手腳筋斷裂，台北地院今天依重傷害罪將朱雪璋判處六年刑期，他的妻子和二十多名共犯則判處2到6月不等刑期。記者呂明宗報導擁有空手道黑帶五段身手的朱雪璋，前年在網路上與被稱為深海閻王的王姓武術家相約在自家道館比武，王姓男子如期赴約，但遭十多人持棍棒毆傷，還被砍斷腳筋一度命危，案發後，朱雪璋辯稱是對方帶刀赴約，他為了保護家人才反擊自衛，不過檢警深入追查發現，王雪璋縝密規劃犯案，不僅透過幫派份子召集人馬埋伏，還要求員工遮蔽道館監視器，依重傷害等罪嫌將朱雪璋等26人起訴。台北地院審理時，朱雪璋雖然坦承傷人，但否認有重傷害犯意，不過，合議庭認定朱雪璋動手傷人造成對手重傷害，判處六年，但原本被認定是重傷害共犯的妻子則獲得輕判，台北地院行政庭長廖建瑜說—tape至於其他共犯則分別被依傷害和幫助傷害等罪判處2個月到6個月不等刑期，都可易科罰金。被害人深海閻王聆判後認為判的太輕，也不解他的妻子可以從重罪改判輕罪。\"\n",
    "# 成立\n",
    "text6 = \"為配合政府三階段電動車推動政策，並朝向轉型為新能源企業暨綠能事業發展，台灣中油董事長戴謙於今年2月率團前往日本考察先進新能源科技及尋求未來可能的合作夥伴，其中包括日本TDK。台灣中油表示，TDK創始於1935年，成立迄今達83年，過去以生產電子零件相關產品為主，從錄音卡帶至硬碟讀取機，全球市占率第一，近年來意識到綠能潮流，轉向研發電池與電池芯技術，未來將朝感應器及powersolution發展，堪稱轉型前輩，值得台灣中油借鏡。\" \n",
    "text7 = \"臺北市長柯文哲明天(7月1號)將赴上海參加雙城論壇，他在接受媒體聯訪時表示，雙城論壇一開始設定目標就很清楚，希望兩岸僵局在對等尊嚴的原則下獲得轉圜。記者劉碧薇報導------臺北上海雙城論壇7月2號在上海舉行，論壇主題為「健康城市」，臺北市柯文哲將在7月1號抵達，外界關注，柯文哲這次前往大陸，傳出陸方擬好腳本，希望柯能闡述兩岸之間不是國與國的關係？對此，柯文哲受訪時表示，「大陸有大陸的想法，我們有我們的堅持」既然雙方定義是兩岸城市交流，就減少談政治高層的問題。他強調，雙城論壇一開始設定目標就很清楚------台北、上海雙城論壇7月2日將在上海東方濱江大酒店舉行，柯文哲與57名市府人員、10名台北市議員1號下午將搭機啟程，預計7月3日晚間回台。依北市府日前公布的參訪行程，包括第一天在上海第六人民醫院與青年醫生及醫學生午餐交流，餐後觀摩骨科手術、參訪徐匯區斜土街道江南新村居民區參觀徐匯濱江規劃館，以及高中生街舞交流活動。2號晚間由北市府晚宴，邀請陸方參加；3號參訪長江隧橋管控中心、崇明區社區、東灘島濕地和長江口中華鱘保護區等。\"\n",
    "text = text7"
   ]
  },
  {
   "cell_type": "code",
   "execution_count": 3,
   "metadata": {},
   "outputs": [
    {
     "ename": "NameError",
     "evalue": "name 'ee_json' is not defined",
     "output_type": "error",
     "traceback": [
      "\u001b[0;31m---------------------------------------------------------------------------\u001b[0m",
      "\u001b[0;31mNameError\u001b[0m                                 Traceback (most recent call last)",
      "\u001b[0;32m<ipython-input-3-1a3763ed3da9>\u001b[0m in \u001b[0;36m<module>\u001b[0;34m\u001b[0m\n\u001b[1;32m      1\u001b[0m \u001b[0;32mfrom\u001b[0m \u001b[0mpprint\u001b[0m \u001b[0;32mimport\u001b[0m \u001b[0mpprint\u001b[0m\u001b[0;34m\u001b[0m\u001b[0m\n\u001b[0;32m----> 2\u001b[0;31m \u001b[0mpprint\u001b[0m\u001b[0;34m(\u001b[0m\u001b[0mee_json\u001b[0m\u001b[0;34m)\u001b[0m\u001b[0;34m\u001b[0m\u001b[0m\n\u001b[0m",
      "\u001b[0;31mNameError\u001b[0m: name 'ee_json' is not defined"
     ]
    }
   ],
   "source": [
    "from pprint import pprint\n",
    "pprint(ee_json)"
   ]
  },
  {
   "cell_type": "code",
   "execution_count": 21,
   "metadata": {},
   "outputs": [
    {
     "ename": "AttributeError",
     "evalue": "'str' object has no attribute 'read'",
     "output_type": "error",
     "traceback": [
      "\u001b[0;31m---------------------------------------------------------------------------\u001b[0m",
      "\u001b[0;31mAttributeError\u001b[0m                            Traceback (most recent call last)",
      "\u001b[0;32m<ipython-input-21-a1efc41ef682>\u001b[0m in \u001b[0;36m<module>\u001b[0;34m\u001b[0m\n\u001b[1;32m      1\u001b[0m \u001b[0;32mimport\u001b[0m \u001b[0mjson\u001b[0m\u001b[0;34m\u001b[0m\u001b[0m\n\u001b[0;32m----> 2\u001b[0;31m \u001b[0ms\u001b[0m \u001b[0;34m=\u001b[0m \u001b[0mjson\u001b[0m\u001b[0;34m.\u001b[0m\u001b[0mload\u001b[0m\u001b[0;34m(\u001b[0m\u001b[0;34m'most_ai_samples/comp_data.txt'\u001b[0m\u001b[0;34m)\u001b[0m\u001b[0;34m\u001b[0m\u001b[0m\n\u001b[0m",
      "\u001b[0;32m/usr/lib/python3.5/json/__init__.py\u001b[0m in \u001b[0;36mload\u001b[0;34m(fp, cls, object_hook, parse_float, parse_int, parse_constant, object_pairs_hook, **kw)\u001b[0m\n\u001b[1;32m    263\u001b[0m \u001b[0;34m\u001b[0m\u001b[0m\n\u001b[1;32m    264\u001b[0m     \"\"\"\n\u001b[0;32m--> 265\u001b[0;31m     return loads(fp.read(),\n\u001b[0m\u001b[1;32m    266\u001b[0m         \u001b[0mcls\u001b[0m\u001b[0;34m=\u001b[0m\u001b[0mcls\u001b[0m\u001b[0;34m,\u001b[0m \u001b[0mobject_hook\u001b[0m\u001b[0;34m=\u001b[0m\u001b[0mobject_hook\u001b[0m\u001b[0;34m,\u001b[0m\u001b[0;34m\u001b[0m\u001b[0m\n\u001b[1;32m    267\u001b[0m         \u001b[0mparse_float\u001b[0m\u001b[0;34m=\u001b[0m\u001b[0mparse_float\u001b[0m\u001b[0;34m,\u001b[0m \u001b[0mparse_int\u001b[0m\u001b[0;34m=\u001b[0m\u001b[0mparse_int\u001b[0m\u001b[0;34m,\u001b[0m\u001b[0;34m\u001b[0m\u001b[0m\n",
      "\u001b[0;31mAttributeError\u001b[0m: 'str' object has no attribute 'read'"
     ]
    }
   ],
   "source": [
    "import json\n",
    "s = json.load()\n"
   ]
  },
  {
   "cell_type": "code",
   "execution_count": 19,
   "metadata": {},
   "outputs": [],
   "source": [
    "%%time\n",
    "ee_json = extract_to_json('input.file', 'formosa_ai_outputs')\n",
    "\n",
    "ee_json"
   ]
  },
  {
   "cell_type": "code",
   "execution_count": 36,
   "metadata": {},
   "outputs": [],
   "source": [
    "with open('event_sample_output.json', 'w') as f:\n",
    "    json.dump(out_json, f, ensure_ascii=False, indent=4)"
   ]
  },
  {
   "cell_type": "code",
   "execution_count": 37,
   "metadata": {
    "collapsed": true,
    "jupyter": {
     "outputs_hidden": true
    }
   },
   "outputs": [
    {
     "name": "stdout",
     "output_type": "stream",
     "text": [
      "defaultdict(<class 'dict'>,\n",
      "            {'9_410': {'Passage': {'D9_410P-S1-EVM0': {'args': [{'char_b': 0,\n",
      "                                                                 'char_e': 2,\n",
      "                                                                 'in_tokens': [['台北']],\n",
      "                                                                 'role': 'Destination',\n",
      "                                                                 'text': '台北',\n",
      "                                                                 'token_b': 0,\n",
      "                                                                 'token_e': 1},\n",
      "                                                                {'char_b': 17,\n",
      "                                                                 'char_e': 19,\n",
      "                                                                 'in_tokens': [['上海']],\n",
      "                                                                 'role': 'Destination',\n",
      "                                                                 'text': '上海',\n",
      "                                                                 'token_b': 10,\n",
      "                                                                 'token_e': 11},\n",
      "                                                                {'char_b': 7,\n",
      "                                                                 'char_e': 9,\n",
      "                                                                 'in_tokens': [['明天']],\n",
      "                                                                 'role': 'Time-Within',\n",
      "                                                                 'text': '明天',\n",
      "                                                                 'token_b': 3,\n",
      "                                                                 'token_e': 4}],\n",
      "                                                       'did': '9_410P',\n",
      "                                                       'id': 0,\n",
      "                                                       's_text': '台北市长柯文哲明天(7月1号)将赴上海参加双城论坛，他在接受媒体联访时表示，双城论坛一开始设定目标就很清楚，希望两岸僵局在对等尊严的原则下获得转圜。',\n",
      "                                                       'sid': 1,\n",
      "                                                       'subtype': 'Transport',\n",
      "                                                       'trigger': {'char_b': 16,\n",
      "                                                                   'char_e': 17,\n",
      "                                                                   'in_tokens': [['赴']],\n",
      "                                                                   'text': '赴',\n",
      "                                                                   'token_b': 9,\n",
      "                                                                   'token_e': 10},\n",
      "                                                       'type': 'Movement'},\n",
      "                                   'D9_410P-S2-EVM0': {'args': [{'char_b': 137,\n",
      "                                                                 'char_e': 140,\n",
      "                                                                 'in_tokens': [['柯文哲']],\n",
      "                                                                 'role': 'Artifact',\n",
      "                                                                 'text': '柯文哲',\n",
      "                                                                 'token_b': 33,\n",
      "                                                                 'token_e': 34},\n",
      "                                                                {'char_b': 144,\n",
      "                                                                 'char_e': 146,\n",
      "                                                                 'in_tokens': [['大陆']],\n",
      "                                                                 'role': 'Destination',\n",
      "                                                                 'text': '大陆',\n",
      "                                                                 'token_b': 37,\n",
      "                                                                 'token_e': 38}],\n",
      "                                                       'did': '9_410P',\n",
      "                                                       'id': 0,\n",
      "                                                       's_text': '记者刘碧薇报导------台北上海双城论坛7月2号在上海举行，论坛主题为「健康城市」，台北市柯文哲将在7月1号抵达，外界关注，柯文哲这次前往大陆，传出陆方拟好脚本，希望柯能阐述两岸之间不是国与国的关系？',\n",
      "                                                       'sid': 2,\n",
      "                                                       'subtype': 'Transport',\n",
      "                                                       'trigger': {'char_b': 142,\n",
      "                                                                   'char_e': 144,\n",
      "                                                                   'in_tokens': [['前往']],\n",
      "                                                                   'text': '前往',\n",
      "                                                                   'token_b': 36,\n",
      "                                                                   'token_e': 37},\n",
      "                                                       'type': 'Movement'},\n",
      "                                   'D9_410P-S3-EVM0': {'args': [{'char_b': 178,\n",
      "                                                                 'char_e': 181,\n",
      "                                                                 'in_tokens': [['柯文哲']],\n",
      "                                                                 'role': 'Artifact',\n",
      "                                                                 'text': '柯文哲',\n",
      "                                                                 'token_b': 2,\n",
      "                                                                 'token_e': 3}],\n",
      "                                                       'did': '9_410P',\n",
      "                                                       'id': 0,\n",
      "                                                       's_text': '对此，柯文哲受访时表示，「大陆有大陆的想法，我们有我们的坚持」既然双方定义是两岸城市交流，就减少谈政治高层的问题。',\n",
      "                                                       'sid': 3,\n",
      "                                                       'subtype': 'Transport',\n",
      "                                                       'trigger': {'char_b': 182,\n",
      "                                                                   'char_e': 183,\n",
      "                                                                   'in_tokens': [['访']],\n",
      "                                                                   'text': '访',\n",
      "                                                                   'token_b': 4,\n",
      "                                                                   'token_e': 5},\n",
      "                                                       'type': 'Movement'},\n",
      "                                   'D9_410P-S4-EVM0': {'args': [{'char_b': 232,\n",
      "                                                                 'char_e': 233,\n",
      "                                                                 'in_tokens': [['他']],\n",
      "                                                                 'role': 'Artifact',\n",
      "                                                                 'text': '他',\n",
      "                                                                 'token_b': 0,\n",
      "                                                                 'token_e': 1},\n",
      "                                                                {'char_b': 276,\n",
      "                                                                 'char_e': 281,\n",
      "                                                                 'in_tokens': [['滨江'],\n",
      "                                                                               ['大'],\n",
      "                                                                               ['酒店']],\n",
      "                                                                 'role': 'Destination',\n",
      "                                                                 'text': '滨江大酒店',\n",
      "                                                                 'token_b': 24,\n",
      "                                                                 'token_e': 27},\n",
      "                                                                {'char_b': 316,\n",
      "                                                                 'char_e': 322,\n",
      "                                                                 'in_tokens': [['7月'],\n",
      "                                                                               ['3日'],\n",
      "                                                                               ['晚间']],\n",
      "                                                                 'role': 'Time-Within',\n",
      "                                                                 'text': '7月3日晚间',\n",
      "                                                                 'token_b': 47,\n",
      "                                                                 'token_e': 50}],\n",
      "                                                       'did': '9_410P',\n",
      "                                                       'id': 0,\n",
      "                                                       's_text': '他强调，双城论坛一开始设定目标就很清楚------台北、上海双城论坛7月2日将在上海东方滨江大酒店举行，柯文哲与57名市府人员、10名台北市议员1号下午将搭机启程，预计7月3日晚间回台。',\n",
      "                                                       'sid': 4,\n",
      "                                                       'subtype': 'Transport',\n",
      "                                                       'trigger': {'char_b': 322,\n",
      "                                                                   'char_e': 323,\n",
      "                                                                   'in_tokens': [['回台']],\n",
      "                                                                   'text': '回',\n",
      "                                                                   'token_b': 50,\n",
      "                                                                   'token_e': 51},\n",
      "                                                       'type': 'Movement'}},\n",
      "                       'Question': 'No Events'},\n",
      "             '9_410_yating_asr': {'Passage': {'D9_410_yating_asrP-S1-EVM0': {'args': [{'char_b': 32,\n",
      "                                                                                       'char_e': 35,\n",
      "                                                                                       'in_tokens': [['柯文哲']],\n",
      "                                                                                       'role': 'Artifact',\n",
      "                                                                                       'text': '柯文哲',\n",
      "                                                                                       'token_b': 18,\n",
      "                                                                                       'token_e': 19},\n",
      "                                                                                      {'char_b': 8,\n",
      "                                                                                       'char_e': 12,\n",
      "                                                                                       'in_tokens': [['七月'],\n",
      "                                                                                                     ['二号']],\n",
      "                                                                                       'role': 'Time-Within',\n",
      "                                                                                       'text': '七月二号',\n",
      "                                                                                       'token_b': 4,\n",
      "                                                                                       'token_e': 6},\n",
      "                                                                                      {'char_b': 37,\n",
      "                                                                                       'char_e': 39,\n",
      "                                                                                       'in_tokens': [['一'],\n",
      "                                                                                                     ['号']],\n",
      "                                                                                       'role': 'Time-Within',\n",
      "                                                                                       'text': '一号',\n",
      "                                                                                       'token_b': 21,\n",
      "                                                                                       'token_e': 23}],\n",
      "                                                                             'did': '9_410_yating_asrP',\n",
      "                                                                             'id': 0,\n",
      "                                                                             's_text': '台北上海双城论坛七月二号在上海举行，论坛主题为健康城市，台北市长柯文哲将在一号抵达。',\n",
      "                                                                             'sid': 1,\n",
      "                                                                             'subtype': 'Transport',\n",
      "                                                                             'trigger': {'char_b': 39,\n",
      "                                                                                         'char_e': 41,\n",
      "                                                                                         'in_tokens': [['抵达']],\n",
      "                                                                                         'text': '抵达',\n",
      "                                                                                         'token_b': 23,\n",
      "                                                                                         'token_e': 24},\n",
      "                                                                             'type': 'Movement'},\n",
      "                                              'D9_410_yating_asrP-S15-EVM0': {'args': [{'char_b': 270,\n",
      "                                                                                        'char_e': 273,\n",
      "                                                                                        'in_tokens': [['号'],\n",
      "                                                                                                      ['江浙']],\n",
      "                                                                                        'role': 'Vehicle',\n",
      "                                                                                        'text': '号江浙',\n",
      "                                                                                        'token_b': 0,\n",
      "                                                                                        'token_e': 2},\n",
      "                                                                                       {'char_b': 275,\n",
      "                                                                                        'char_e': 282,\n",
      "                                                                                        'in_tokens': [['东方'],\n",
      "                                                                                                      ['冰箱'],\n",
      "                                                                                                      ['大'],\n",
      "                                                                                                      ['酒店']],\n",
      "                                                                                        'role': 'Destination',\n",
      "                                                                                        'text': '东方冰箱大酒店',\n",
      "                                                                                        'token_b': 3,\n",
      "                                                                                        'token_e': 7},\n",
      "                                                                                       {'char_b': 305,\n",
      "                                                                                        'char_e': 309,\n",
      "                                                                                        'in_tokens': [['一号'],\n",
      "                                                                                                      ['下午']],\n",
      "                                                                                        'role': 'Time-Within',\n",
      "                                                                                        'text': '一号下午',\n",
      "                                                                                        'token_b': 20,\n",
      "                                                                                        'token_e': 22},\n",
      "                                                                                       {'char_b': 316,\n",
      "                                                                                        'char_e': 322,\n",
      "                                                                                        'in_tokens': [['七月'],\n",
      "                                                                                                      ['三号'],\n",
      "                                                                                                      ['晚间']],\n",
      "                                                                                        'role': 'Time-Within',\n",
      "                                                                                        'text': '七月三号晚间',\n",
      "                                                                                        'token_b': 26,\n",
      "                                                                                        'token_e': 29}],\n",
      "                                                                              'did': '9_410_yating_asrP',\n",
      "                                                                              'id': 0,\n",
      "                                                                              's_text': '号江浙上海东方冰箱大酒店举行，柯文哲与五十七名市府官员、十名台北市议员一号下午搭机启程，预计七月三号晚间回台。',\n",
      "                                                                              'sid': 15,\n",
      "                                                                              'subtype': 'Transport',\n",
      "                                                                              'trigger': {'char_b': 322,\n",
      "                                                                                          'char_e': 323,\n",
      "                                                                                          'in_tokens': [['回台']],\n",
      "                                                                                          'text': '回',\n",
      "                                                                                          'token_b': 29,\n",
      "                                                                                          'token_e': 30},\n",
      "                                                                              'type': 'Movement'},\n",
      "                                              'D9_410_yating_asrP-S2-EVM0': {'args': [{'char_b': 47,\n",
      "                                                                                       'char_e': 50,\n",
      "                                                                                       'in_tokens': [['柯文哲']],\n",
      "                                                                                       'role': 'Artifact',\n",
      "                                                                                       'text': '柯文哲',\n",
      "                                                                                       'token_b': 3,\n",
      "                                                                                       'token_e': 4},\n",
      "                                                                                      {'char_b': 54,\n",
      "                                                                                       'char_e': 56,\n",
      "                                                                                       'in_tokens': [['大陆']],\n",
      "                                                                                       'role': 'Destination',\n",
      "                                                                                       'text': '大陆',\n",
      "                                                                                       'token_b': 7,\n",
      "                                                                                       'token_e': 8}],\n",
      "                                                                             'did': '9_410_yating_asrP',\n",
      "                                                                             'id': 0,\n",
      "                                                                             's_text': '外界关注，柯文哲这次前往大陆，传出陆方你好脚本，希望柯文哲阐述两岸不是国与国的关系，对此柯文哲受访时表示，大陆有大陆想法，我们有我们的坚持，既然双方第一是两岸城市交流，就要减少谈政治高层问题。',\n",
      "                                                                             'sid': 2,\n",
      "                                                                             'subtype': 'Transport',\n",
      "                                                                             'trigger': {'char_b': 52,\n",
      "                                                                                         'char_e': 54,\n",
      "                                                                                         'in_tokens': [['前往']],\n",
      "                                                                                         'text': '前往',\n",
      "                                                                                         'token_b': 6,\n",
      "                                                                                         'token_e': 7},\n",
      "                                                                             'type': 'Movement'}},\n",
      "                                  'Question': 'No Events'}})\n"
     ]
    }
   ],
   "source": [
    "from pprint import pprint\n",
    "pprint(out_json)\n"
   ]
  }
 ],
 "metadata": {
  "kernelspec": {
   "display_name": "Python 3",
   "language": "python",
   "name": "python3"
  },
  "language_info": {
   "codemirror_mode": {
    "name": "ipython",
    "version": 3
   },
   "file_extension": ".py",
   "mimetype": "text/x-python",
   "name": "python",
   "nbconvert_exporter": "python",
   "pygments_lexer": "ipython3",
   "version": "3.5.2"
  }
 },
 "nbformat": 4,
 "nbformat_minor": 4
}
